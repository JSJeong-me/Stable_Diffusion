{
  "nbformat": 4,
  "nbformat_minor": 0,
  "metadata": {
    "colab": {
      "provenance": [],
      "gpuType": "T4",
      "authorship_tag": "ABX9TyOMnifU22oCRswfohQuwo6H",
      "include_colab_link": true
    },
    "kernelspec": {
      "name": "python3",
      "display_name": "Python 3"
    },
    "language_info": {
      "name": "python"
    },
    "accelerator": "GPU"
  },
  "cells": [
    {
      "cell_type": "markdown",
      "metadata": {
        "id": "view-in-github",
        "colab_type": "text"
      },
      "source": [
        "<a href=\"https://colab.research.google.com/github/JSJeong-me/Stable_Diffusion/blob/main/LLM-Grounded/SAM-Backgound.ipynb\" target=\"_parent\"><img src=\"https://colab.research.google.com/assets/colab-badge.svg\" alt=\"Open In Colab\"/></a>"
      ]
    },
    {
      "cell_type": "code",
      "source": [
        "from huggingface_hub import login\n",
        "\n",
        "# 발급받은 토큰을 여기에 입력하세요\n",
        "login(token=\"\")"
      ],
      "metadata": {
        "id": "qwulyBAGDKcr"
      },
      "execution_count": 5,
      "outputs": []
    },
    {
      "cell_type": "code",
      "source": [
        "!# Download the FastSAM model weights\n",
        "!wget https://huggingface.co/yuval-alaluf/FastSAM-x/resolve/main/FastSAM-x.pt -O FastSAM.pt"
      ],
      "metadata": {
        "id": "gK7gXY2bCqpx"
      },
      "execution_count": null,
      "outputs": []
    },
    {
      "cell_type": "code",
      "execution_count": null,
      "metadata": {
        "id": "mKtsEInmBRgh"
      },
      "outputs": [],
      "source": [
        "# STEP 1: Install required library (Colab only)\n",
        "!pip install ultralytics\n",
        "\n",
        "from ultralytics import YOLO\n",
        "from PIL import Image\n",
        "import numpy as np\n",
        "import matplotlib.pyplot as plt\n",
        "\n",
        "# STEP 2: Load the model\n",
        "model = YOLO('FastSAM.pt')  # replace with your actual model path, e.g., 'FastSAM-x.pt'\n",
        "\n",
        "# STEP 3: Run prediction on the input image\n",
        "results = model.predict(source='dogndog.png', task='segment')\n",
        "\n",
        "# STEP 4: Extract segmentation masks and bounding boxes\n",
        "masks = results[0].masks.data.cpu().numpy()  # shape: (N, H, W)\n",
        "bboxes = results[0].boxes.xywh.cpu().numpy()  # shape: (N, 4)\n",
        "\n",
        "# STEP 5: Select the rightmost object, assumed to be the right dog\n",
        "rightmost_idx = np.argmax(bboxes[:, 0])\n",
        "right_dog_mask = masks[rightmost_idx]\n",
        "\n",
        "# STEP 6: Convert mask to image format\n",
        "mask_img = (right_dog_mask * 255).astype(np.uint8)\n",
        "mask_pil = Image.fromarray(mask_img)\n",
        "mask_pil.save(\"right_dog_sam_mask.png\")\n",
        "\n",
        "# STEP 7: Display the mask\n",
        "plt.imshow(mask_img, cmap='gray')\n",
        "plt.axis(\"off\")\n",
        "plt.title(\"Right Dog SAM Mask\")\n",
        "plt.show()\n"
      ]
    }
  ]
}