{
  "nbformat": 4,
  "nbformat_minor": 0,
  "metadata": {
    "colab": {
      "provenance": [],
      "machine_shape": "hm"
    },
    "kernelspec": {
      "name": "python3",
      "display_name": "Python 3"
    },
    "language_info": {
      "name": "python"
    },
    "accelerator": "GPU",
    "gpuClass": "standard"
  },
  "cells": [
    {
      "cell_type": "markdown",
      "source": [
        "# 인공지능팩토리 웨비나 (Mar 7th, 2023) 데모 시연 프로그램\n",
        "\n",
        "\n",
        "\n",
        "\n",
        "> 작성자. 이정민 (스모어톡, https://smoreday.oopy.io)\n",
        "\n",
        "> 디지털 이미지 어시스턴트, 스모어데이 (https://bit.ly/smoredaykr)\n",
        "\n",
        "> 코드나 모델 사용 관련 문의가 있다면 이메일(support@smoretalk.io) 혹은 서베이 응답(https://airtable.com/shrNH4tB8YSkd8PHp) 을 통해 연락주세요.\n",
        "\n",
        "_\n",
        "\n",
        "본 프로그램은 이미지 모델을 쉽게 사용해보고 싶은 초보자 분들을 위해 작성한 자료입니다.\n",
        "\n",
        "보다 자세한 내용은 프로그램 작성에 참고한 Hugging Face 내 블로그 글(https://huggingface.co/blog/controlnet) 을 참고해주세요. "
      ],
      "metadata": {
        "id": "i5JoPpcGFP5O"
      }
    },
    {
      "cell_type": "markdown",
      "source": [
        "# 1. GPU 세팅 확인\n",
        "\n",
        "\n",
        "1.   **상단 탭에서 Runtime 클릭 - Change runtime type 클릭 - Hardware Accelerator 의 값을 GPU로 변경** 을 진행해주세요\n",
        "\n",
        "2.   셀 좌측 [ ] 버튼을 눌러주세요."
      ],
      "metadata": {
        "id": "wY_-lq2wJnNW"
      }
    },
    {
      "cell_type": "code",
      "execution_count": 1,
      "metadata": {
        "colab": {
          "base_uri": "https://localhost:8080/"
        },
        "id": "NMuxowCm6Jgs",
        "outputId": "a2be089c-7850-4a78-f20d-3cc37941767b"
      },
      "outputs": [
        {
          "output_type": "stream",
          "name": "stdout",
          "text": [
            "Tue May  2 00:38:17 2023       \n",
            "+-----------------------------------------------------------------------------+\n",
            "| NVIDIA-SMI 525.85.12    Driver Version: 525.85.12    CUDA Version: 12.0     |\n",
            "|-------------------------------+----------------------+----------------------+\n",
            "| GPU  Name        Persistence-M| Bus-Id        Disp.A | Volatile Uncorr. ECC |\n",
            "| Fan  Temp  Perf  Pwr:Usage/Cap|         Memory-Usage | GPU-Util  Compute M. |\n",
            "|                               |                      |               MIG M. |\n",
            "|===============================+======================+======================|\n",
            "|   0  Tesla T4            Off  | 00000000:00:04.0 Off |                    0 |\n",
            "| N/A   55C    P8    10W /  70W |      0MiB / 15360MiB |      0%      Default |\n",
            "|                               |                      |                  N/A |\n",
            "+-------------------------------+----------------------+----------------------+\n",
            "                                                                               \n",
            "+-----------------------------------------------------------------------------+\n",
            "| Processes:                                                                  |\n",
            "|  GPU   GI   CI        PID   Type   Process name                  GPU Memory |\n",
            "|        ID   ID                                                   Usage      |\n",
            "|=============================================================================|\n",
            "|  No running processes found                                                 |\n",
            "+-----------------------------------------------------------------------------+\n",
            "nvcc: NVIDIA (R) Cuda compiler driver\n",
            "Copyright (c) 2005-2022 NVIDIA Corporation\n",
            "Built on Wed_Sep_21_10:33:58_PDT_2022\n",
            "Cuda compilation tools, release 11.8, V11.8.89\n",
            "Build cuda_11.8.r11.8/compiler.31833905_0\n",
            "              total        used        free      shared  buff/cache   available\n",
            "Mem:           12Gi       638Mi       8.8Gi       1.0Mi       3.2Gi        11Gi\n",
            "Swap:            0B          0B          0B\n"
          ]
        }
      ],
      "source": [
        "! nvidia-smi\n",
        "! nvcc -V\n",
        "! free -h"
      ]
    },
    {
      "cell_type": "markdown",
      "source": [
        "# 2. 구글 드라이브 연동\n",
        "\n",
        "\n",
        "셀 좌측 [ ] 버튼만 눌러주세요."
      ],
      "metadata": {
        "id": "Kb8X98dGKp9i"
      }
    },
    {
      "cell_type": "code",
      "source": [
        "from google.colab import drive\n",
        "drive.mount('/content/drive')"
      ],
      "metadata": {
        "colab": {
          "base_uri": "https://localhost:8080/"
        },
        "id": "pnjPcqMaax4z",
        "outputId": "e84ad636-58fd-4482-e8c1-9f2e13d4e1b2"
      },
      "execution_count": 2,
      "outputs": [
        {
          "output_type": "stream",
          "name": "stdout",
          "text": [
            "Mounted at /content/drive\n"
          ]
        }
      ]
    },
    {
      "cell_type": "markdown",
      "source": [
        "#3. 필요 라이브러리 설치\n",
        "\n",
        "\n",
        "셀 좌측 [ ] 버튼만 눌러주세요."
      ],
      "metadata": {
        "id": "uYxgFQALMvPI"
      }
    },
    {
      "cell_type": "code",
      "source": [
        "!pip install -q diffusers==0.14.0\n",
        "!pip install -q transformers xformers git+https://github.com/huggingface/accelerate.git\n",
        "!pip install -q opencv-contrib-python\n",
        "!pip install -q controlnet_aux"
      ],
      "metadata": {
        "colab": {
          "base_uri": "https://localhost:8080/"
        },
        "id": "lE1rhs-YYo3O",
        "outputId": "268cf445-78a0-4109-be0e-6b6aede47142"
      },
      "execution_count": 3,
      "outputs": [
        {
          "output_type": "stream",
          "name": "stdout",
          "text": [
            "\u001b[2K     \u001b[90m━━━━━━━━━━━━━━━━━━━━━━━━━━━━━━━━━━━━━━\u001b[0m \u001b[32m737.4/737.4 kB\u001b[0m \u001b[31m13.6 MB/s\u001b[0m eta \u001b[36m0:00:00\u001b[0m\n",
            "\u001b[2K     \u001b[90m━━━━━━━━━━━━━━━━━━━━━━━━━━━━━━━━━━━━━━\u001b[0m \u001b[32m224.5/224.5 kB\u001b[0m \u001b[31m21.0 MB/s\u001b[0m eta \u001b[36m0:00:00\u001b[0m\n",
            "\u001b[?25h  Installing build dependencies ... \u001b[?25l\u001b[?25hdone\n",
            "  Getting requirements to build wheel ... \u001b[?25l\u001b[?25hdone\n",
            "  Preparing metadata (pyproject.toml) ... \u001b[?25l\u001b[?25hdone\n",
            "\u001b[2K     \u001b[90m━━━━━━━━━━━━━━━━━━━━━━━━━━━━━━━━━━━━━━━━\u001b[0m \u001b[32m7.0/7.0 MB\u001b[0m \u001b[31m36.4 MB/s\u001b[0m eta \u001b[36m0:00:00\u001b[0m\n",
            "\u001b[2K     \u001b[90m━━━━━━━━━━━━━━━━━━━━━━━━━━━━━━━━━━━━━━\u001b[0m \u001b[32m108.2/108.2 MB\u001b[0m \u001b[31m10.5 MB/s\u001b[0m eta \u001b[36m0:00:00\u001b[0m\n",
            "\u001b[2K     \u001b[90m━━━━━━━━━━━━━━━━━━━━━━━━━━━━━━━━━━━━━━━━\u001b[0m \u001b[32m7.8/7.8 MB\u001b[0m \u001b[31m77.5 MB/s\u001b[0m eta \u001b[36m0:00:00\u001b[0m\n",
            "\u001b[?25h  Building wheel for accelerate (pyproject.toml) ... \u001b[?25l\u001b[?25hdone\n",
            "\u001b[2K     \u001b[90m━━━━━━━━━━━━━━━━━━━━━━━━━━━━━━━━━━━━━━━\u001b[0m \u001b[32m122.9/122.9 kB\u001b[0m \u001b[31m4.5 MB/s\u001b[0m eta \u001b[36m0:00:00\u001b[0m\n",
            "\u001b[2K     \u001b[90m━━━━━━━━━━━━━━━━━━━━━━━━━━━━━━━━━━━━━━━━\u001b[0m \u001b[32m42.2/42.2 kB\u001b[0m \u001b[31m5.9 MB/s\u001b[0m eta \u001b[36m0:00:00\u001b[0m\n",
            "\u001b[2K     \u001b[90m━━━━━━━━━━━━━━━━━━━━━━━━━━━━━━━━━━━━━━\u001b[0m \u001b[32m549.1/549.1 kB\u001b[0m \u001b[31m18.8 MB/s\u001b[0m eta \u001b[36m0:00:00\u001b[0m\n",
            "\u001b[?25h"
          ]
        }
      ]
    },
    {
      "cell_type": "markdown",
      "source": [
        "#4. **이미지 업로드**\n",
        "\n",
        "\n",
        "1.   **구글 드라이브** 안 내 드라이브에 이미지 윤곽을 얻기를 원하는 이미지를 저장합니다.\n",
        "\n",
        "2.   화면 좌측 이미지 폴더 모양 클릭 - drive 클릭 - MyDrive 클릭 - 해당 **이미지에서 Copy Path(경로 복사)** 를 합니다.\n",
        "\n",
        "3.   셀 내 **image_path 에 붙여넣기** 해주세요.\n",
        "\n",
        "4.   셀 좌측 [ ] 버튼을 눌러주세요."
      ],
      "metadata": {
        "id": "O3z97DxhNaFp"
      }
    },
    {
      "cell_type": "code",
      "source": [
        "from diffusers.utils import load_image\n",
        "\n",
        "image_path = \"/content/drive/MyDrive/lofi_background.jfif\" #@param {type: \"string\"}\n",
        "\n",
        "image = load_image(\n",
        "    image_path\n",
        ")\n",
        "image"
      ],
      "metadata": {
        "colab": {
          "base_uri": "https://localhost:8080/",
          "height": 259
        },
        "id": "ZB_U6Nq2ZFll",
        "outputId": "a7890423-d141-4e3e-996e-7a848841e52d",
        "cellView": "form"
      },
      "execution_count": 5,
      "outputs": [
        {
          "output_type": "display_data",
          "data": {
            "text/plain": [
              "\u001b[31m╭─\u001b[0m\u001b[31m──────────────────────────────\u001b[0m\u001b[31m \u001b[0m\u001b[1;31mTraceback \u001b[0m\u001b[1;2;31m(most recent call last)\u001b[0m\u001b[31m \u001b[0m\u001b[31m───────────────────────────────\u001b[0m\u001b[31m─╮\u001b[0m\n",
              "\u001b[31m│\u001b[0m in \u001b[92m<cell line: 5>\u001b[0m:\u001b[94m5\u001b[0m                                                                              \u001b[31m│\u001b[0m\n",
              "\u001b[31m│\u001b[0m                                                                                                  \u001b[31m│\u001b[0m\n",
              "\u001b[31m│\u001b[0m \u001b[2;33m/usr/local/lib/python3.10/dist-packages/diffusers/utils/\u001b[0m\u001b[1;33mtesting_utils.py\u001b[0m:\u001b[94m234\u001b[0m in \u001b[92mload_image\u001b[0m       \u001b[31m│\u001b[0m\n",
              "\u001b[31m│\u001b[0m                                                                                                  \u001b[31m│\u001b[0m\n",
              "\u001b[31m│\u001b[0m   \u001b[2m231 \u001b[0m\u001b[2m│   │   \u001b[0m\u001b[94melif\u001b[0m os.path.isfile(image):                                                        \u001b[31m│\u001b[0m\n",
              "\u001b[31m│\u001b[0m   \u001b[2m232 \u001b[0m\u001b[2m│   │   │   \u001b[0mimage = PIL.Image.open(image)                                                  \u001b[31m│\u001b[0m\n",
              "\u001b[31m│\u001b[0m   \u001b[2m233 \u001b[0m\u001b[2m│   │   \u001b[0m\u001b[94melse\u001b[0m:                                                                              \u001b[31m│\u001b[0m\n",
              "\u001b[31m│\u001b[0m \u001b[31m❱ \u001b[0m234 \u001b[2m│   │   │   \u001b[0m\u001b[94mraise\u001b[0m \u001b[96mValueError\u001b[0m(                                                              \u001b[31m│\u001b[0m\n",
              "\u001b[31m│\u001b[0m   \u001b[2m235 \u001b[0m\u001b[2m│   │   │   │   \u001b[0m\u001b[33mf\u001b[0m\u001b[33m\"\u001b[0m\u001b[33mIncorrect path or url, URLs must start with `http://` or `https://`, a\u001b[0m   \u001b[31m│\u001b[0m\n",
              "\u001b[31m│\u001b[0m   \u001b[2m236 \u001b[0m\u001b[2m│   │   │   \u001b[0m)                                                                              \u001b[31m│\u001b[0m\n",
              "\u001b[31m│\u001b[0m   \u001b[2m237 \u001b[0m\u001b[2m│   \u001b[0m\u001b[94melif\u001b[0m \u001b[96misinstance\u001b[0m(image, PIL.Image.Image):                                               \u001b[31m│\u001b[0m\n",
              "\u001b[31m╰──────────────────────────────────────────────────────────────────────────────────────────────────╯\u001b[0m\n",
              "\u001b[1;91mValueError: \u001b[0mIncorrect path or url, URLs must start with `\u001b[4;94mhttp://`\u001b[0m or `\u001b[4;94mhttps://`,\u001b[0m and \n",
              "\u001b[35m/content/drive/MyDrive/\u001b[0m\u001b[95mlofi_background.jfif\u001b[0m is not a valid path\n"
            ],
            "text/html": [
              "<pre style=\"white-space:pre;overflow-x:auto;line-height:normal;font-family:Menlo,'DejaVu Sans Mono',consolas,'Courier New',monospace\"><span style=\"color: #800000; text-decoration-color: #800000\">╭─────────────────────────────── </span><span style=\"color: #800000; text-decoration-color: #800000; font-weight: bold\">Traceback </span><span style=\"color: #bf7f7f; text-decoration-color: #bf7f7f; font-weight: bold\">(most recent call last)</span><span style=\"color: #800000; text-decoration-color: #800000\"> ────────────────────────────────╮</span>\n",
              "<span style=\"color: #800000; text-decoration-color: #800000\">│</span> in <span style=\"color: #00ff00; text-decoration-color: #00ff00\">&lt;cell line: 5&gt;</span>:<span style=\"color: #0000ff; text-decoration-color: #0000ff\">5</span>                                                                              <span style=\"color: #800000; text-decoration-color: #800000\">│</span>\n",
              "<span style=\"color: #800000; text-decoration-color: #800000\">│</span>                                                                                                  <span style=\"color: #800000; text-decoration-color: #800000\">│</span>\n",
              "<span style=\"color: #800000; text-decoration-color: #800000\">│</span> <span style=\"color: #bfbf7f; text-decoration-color: #bfbf7f\">/usr/local/lib/python3.10/dist-packages/diffusers/utils/</span><span style=\"color: #808000; text-decoration-color: #808000; font-weight: bold\">testing_utils.py</span>:<span style=\"color: #0000ff; text-decoration-color: #0000ff\">234</span> in <span style=\"color: #00ff00; text-decoration-color: #00ff00\">load_image</span>       <span style=\"color: #800000; text-decoration-color: #800000\">│</span>\n",
              "<span style=\"color: #800000; text-decoration-color: #800000\">│</span>                                                                                                  <span style=\"color: #800000; text-decoration-color: #800000\">│</span>\n",
              "<span style=\"color: #800000; text-decoration-color: #800000\">│</span>   <span style=\"color: #7f7f7f; text-decoration-color: #7f7f7f\">231 │   │   </span><span style=\"color: #0000ff; text-decoration-color: #0000ff\">elif</span> os.path.isfile(image):                                                        <span style=\"color: #800000; text-decoration-color: #800000\">│</span>\n",
              "<span style=\"color: #800000; text-decoration-color: #800000\">│</span>   <span style=\"color: #7f7f7f; text-decoration-color: #7f7f7f\">232 │   │   │   </span>image = PIL.Image.open(image)                                                  <span style=\"color: #800000; text-decoration-color: #800000\">│</span>\n",
              "<span style=\"color: #800000; text-decoration-color: #800000\">│</span>   <span style=\"color: #7f7f7f; text-decoration-color: #7f7f7f\">233 │   │   </span><span style=\"color: #0000ff; text-decoration-color: #0000ff\">else</span>:                                                                              <span style=\"color: #800000; text-decoration-color: #800000\">│</span>\n",
              "<span style=\"color: #800000; text-decoration-color: #800000\">│</span> <span style=\"color: #800000; text-decoration-color: #800000\">❱ </span>234 <span style=\"color: #7f7f7f; text-decoration-color: #7f7f7f\">│   │   │   </span><span style=\"color: #0000ff; text-decoration-color: #0000ff\">raise</span> <span style=\"color: #00ffff; text-decoration-color: #00ffff\">ValueError</span>(                                                              <span style=\"color: #800000; text-decoration-color: #800000\">│</span>\n",
              "<span style=\"color: #800000; text-decoration-color: #800000\">│</span>   <span style=\"color: #7f7f7f; text-decoration-color: #7f7f7f\">235 │   │   │   │   </span><span style=\"color: #808000; text-decoration-color: #808000\">f\"Incorrect path or url, URLs must start with `http://` or `https://`, a</span>   <span style=\"color: #800000; text-decoration-color: #800000\">│</span>\n",
              "<span style=\"color: #800000; text-decoration-color: #800000\">│</span>   <span style=\"color: #7f7f7f; text-decoration-color: #7f7f7f\">236 │   │   │   </span>)                                                                              <span style=\"color: #800000; text-decoration-color: #800000\">│</span>\n",
              "<span style=\"color: #800000; text-decoration-color: #800000\">│</span>   <span style=\"color: #7f7f7f; text-decoration-color: #7f7f7f\">237 │   </span><span style=\"color: #0000ff; text-decoration-color: #0000ff\">elif</span> <span style=\"color: #00ffff; text-decoration-color: #00ffff\">isinstance</span>(image, PIL.Image.Image):                                               <span style=\"color: #800000; text-decoration-color: #800000\">│</span>\n",
              "<span style=\"color: #800000; text-decoration-color: #800000\">╰──────────────────────────────────────────────────────────────────────────────────────────────────╯</span>\n",
              "<span style=\"color: #ff0000; text-decoration-color: #ff0000; font-weight: bold\">ValueError: </span>Incorrect path or url, URLs must start with `<span style=\"color: #0000ff; text-decoration-color: #0000ff; text-decoration: underline\">http://`</span> or `<span style=\"color: #0000ff; text-decoration-color: #0000ff; text-decoration: underline\">https://`,</span> and \n",
              "<span style=\"color: #800080; text-decoration-color: #800080\">/content/drive/MyDrive/</span><span style=\"color: #ff00ff; text-decoration-color: #ff00ff\">lofi_background.jfif</span> is not a valid path\n",
              "</pre>\n"
            ]
          },
          "metadata": {}
        }
      ]
    },
    {
      "cell_type": "markdown",
      "source": [
        "#5. 이미지 윤곽 얻기\n",
        "\n",
        "\n",
        "셀 좌측 [ ] 버튼만 눌러주세요."
      ],
      "metadata": {
        "id": "IK3L3ItTQc0S"
      }
    },
    {
      "cell_type": "code",
      "source": [
        "import cv2\n",
        "from PIL import Image\n",
        "import numpy as np\n",
        "\n",
        "image = np.array(image)\n",
        "\n",
        "low_threshold = 100\n",
        "high_threshold = 200\n",
        "\n",
        "image = cv2.Canny(image, low_threshold, high_threshold)\n",
        "image = image[:, :, None]\n",
        "image = np.concatenate([image, image, image], axis=2)\n",
        "canny_image = Image.fromarray(image)\n",
        "canny_image"
      ],
      "metadata": {
        "id": "eKojFvZ5ZSb2"
      },
      "execution_count": null,
      "outputs": []
    },
    {
      "cell_type": "markdown",
      "source": [
        "#6. **모델 업로드**\n",
        "\n",
        "\n",
        "1.   **Hugging Face (https://huggingface.co/)** 에서 사용하고 싶은 모델을 검색합니다. (Default: runwayml/stable-diffusion-v1-5, https://huggingface.co/runwayml/stable-diffusion-v1-5)\n",
        "\n",
        "2.   모델을 검색했다면, 작성자/모델명 을 복사합니다.\n",
        "\n",
        "3.   해당 값을 셀 내 **model_id 에 붙여넣기** 해주세요.\n",
        "\n",
        "4.   셀 좌측 [ ] 버튼을 눌러주세요."
      ],
      "metadata": {
        "id": "4nYfRoO7QqAU"
      }
    },
    {
      "cell_type": "code",
      "source": [
        "from diffusers import StableDiffusionControlNetPipeline, UniPCMultistepScheduler, ControlNetModel\n",
        "import torch\n",
        "\n",
        "model_id = \"runwayml/stable-diffusion-v1-5\" #@param {type: \"string\"}\n",
        "\n",
        "controlnet = ControlNetModel.from_pretrained(\"lllyasviel/sd-controlnet-canny\", torch_dtype=torch.float16)\n",
        "pipe = StableDiffusionControlNetPipeline.from_pretrained(\n",
        "    model_id, controlnet=controlnet, torch_dtype=torch.float16\n",
        ")\n",
        "\n",
        "pipe.scheduler = UniPCMultistepScheduler.from_config(pipe.scheduler.config)\n",
        "pipe.to(\"cuda\")\n",
        "\n",
        "pipe.enable_xformers_memory_efficient_attention()"
      ],
      "metadata": {
        "id": "-oKdlKRlZih3",
        "cellView": "form"
      },
      "execution_count": null,
      "outputs": []
    },
    {
      "cell_type": "markdown",
      "source": [
        "#7. **프롬프트 입력**\n",
        "\n",
        "\n",
        "1.   셀 내 **prompt** 에는 이미지를 만들고 싶은 상황을 영어 키워드로 작성합니다.\n",
        "\n",
        "2.   셀 내 **negative_prompt** 에는 이미지 생성 시 제외하고 싶은 조건을 영어 키워드로 작성합니다.\n",
        "\n",
        "3.   셀 내 **seed_num** 은 슬라이드 바를 이동시켜 값을 지정합니다. 값에 따라 이미지의 종류가 달라집니다.\n",
        "\n",
        "4.   셀 내 **step_num** 은 슬라이드 바를 이동시켜 값을 지정합니다. 높은 값일 수록 이미지의 품질이 좋아지는 대신 생성 시간이 오래 소요됩니다.\n",
        "\n",
        "5.   셀 좌측 [ ] 버튼을 눌러주세요. 이미지가 완성됩니다."
      ],
      "metadata": {
        "id": "9HGthEV_SMqo"
      }
    },
    {
      "cell_type": "code",
      "source": [
        "prompt = 'An astronaut, in spaceship, lighting, cheerful, masterpiece, best quality, CG, wallpaper, HDR, high quality, high definition, extremely detailed, trending on Artstation' #@param {type: \"string\"}\n",
        "negative_prompt = 'lowres, (bad anatomy, bad hands:1.1), text, error, missing fingers, extra digit, fewer digits, cropped, worst quality, low quality, normal quality, jpeg artifacts, signature, watermark, username, blurry, artist name, b&w, weird colors, (cartoon, 3d, bad art, poorly drawn, close up, blurry:1.5), (disfigured, deformed, extra limbs:1.5)' #@param {type: \"string\"}\n",
        "prompt = [prompt]\n",
        "negative_prompt = [negative_prompt]\n",
        "\n",
        "\n",
        "seed_num = 30 #@param {type:\"slider\", min:1, max:100, step:1}\n",
        "generator = torch.Generator(device='cuda').manual_seed(seed_num)\n",
        "\n",
        "step_num = 70 #@param {type:\"slider\", min:30, max:120, step:1}\n",
        "\n",
        "image = pipe(\n",
        "    prompt,\n",
        "    canny_image,\n",
        "    negative_prompt=negative_prompt,\n",
        "    generator=generator,\n",
        "    num_inference_steps=step_num,\n",
        ").images[0]\n",
        "\n",
        "image"
      ],
      "metadata": {
        "id": "hDcJjQzRp9aO",
        "cellView": "form"
      },
      "execution_count": null,
      "outputs": []
    }
  ]
}